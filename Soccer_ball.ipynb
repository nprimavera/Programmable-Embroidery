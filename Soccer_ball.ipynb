{
  "nbformat": 4,
  "nbformat_minor": 0,
  "metadata": {
    "colab": {
      "provenance": [],
      "authorship_tag": "ABX9TyP/JIy4DwiNqllRdDslrXwQ",
      "include_colab_link": true
    },
    "kernelspec": {
      "name": "python3",
      "display_name": "Python 3"
    },
    "language_info": {
      "name": "python"
    }
  },
  "cells": [
    {
      "cell_type": "markdown",
      "metadata": {
        "id": "view-in-github",
        "colab_type": "text"
      },
      "source": [
        "<a href=\"https://colab.research.google.com/github/nprimavera/Programmable-Embroidery/blob/main/Soccer_ball.ipynb\" target=\"_parent\"><img src=\"https://colab.research.google.com/assets/colab-badge.svg\" alt=\"Open In Colab\"/></a>"
      ]
    },
    {
      "cell_type": "code",
      "source": [
        "import struct\n",
        "import math\n",
        "\n",
        "def write_jef_file(filename, commands):\n",
        "    with open(filename, 'wb') as f:\n",
        "        f.write(b'JEF\\x00\\x00\\x00\\x00')\n",
        "        for command in commands:\n",
        "            f.write(command)\n",
        "\n",
        "def move(x, y):\n",
        "    return struct.pack('<BBhh', 0x01, 0x01, int(x), int(y))\n",
        "\n",
        "def color_change(color_index):\n",
        "    return struct.pack('<BBH', 0x80, 0x04, color_index)\n",
        "\n",
        "def main():\n",
        "    diameter_cm = 10  # Diameter of the soccer ball patch in cm\n",
        "    stitch_length = 10  # Length of the stitch in 1/10 mm\n",
        "    radius = diameter_cm * 0.5\n",
        "\n",
        "    # Calculate the number of stitches required\n",
        "    num_circle_points = 40  # Number of points to approximate the circle\n",
        "    num_hex_points = 6  # Number of points for hexagon pattern\n",
        "    num_pent_points = 5  # Number of points for pentagon pattern\n",
        "    commands = []\n",
        "\n",
        "    # Move to the starting position for the circle\n",
        "    start_x = radius * math.cos(0)\n",
        "    start_y = radius * math.sin(0)\n",
        "    commands.append(move(start_x, start_y))\n",
        "\n",
        "    # Generate circle points\n",
        "    for i in range(num_circle_points + 1):\n",
        "        angle = 2 * math.pi * i / num_circle_points\n",
        "        x = radius * math.cos(angle)\n",
        "        y = radius * math.sin(angle)\n",
        "        commands.append(move(x, y))\n",
        "\n",
        "    # Switch color for hexagon pattern\n",
        "    commands.append(color_change(1))\n",
        "\n",
        "    # Generate hexagon pattern\n",
        "    hex_radius = radius * 0.85\n",
        "    for i in range(num_hex_points + 1):\n",
        "        angle = 2 * math.pi * i / num_hex_points\n",
        "        x = hex_radius * math.cos(angle)\n",
        "        y = hex_radius * math.sin(angle)\n",
        "        commands.append(move(x, y))\n",
        "\n",
        "    # Switch color for pentagon pattern\n",
        "    commands.append(color_change(2))\n",
        "\n",
        "    # Generate pentagon pattern\n",
        "    pent_radius = radius * 0.55\n",
        "    for i in range(num_pent_points + 1):\n",
        "        angle = 2 * math.pi * i / num_pent_points\n",
        "        x = pent_radius * math.cos(angle + math.pi / num_pent_points)\n",
        "        y = pent_radius * math.sin(angle + math.pi / num_pent_points)\n",
        "        commands.append(move(x, y))\n",
        "\n",
        "    # End of design\n",
        "    commands.append(color_change(0))  # End of design\n",
        "\n",
        "    # Write commands to JEF file\n",
        "    write_jef_file('soccer_ball_patch.jef', commands)\n",
        "\n",
        "if __name__ == \"__main__\":\n",
        "    main()"
      ],
      "metadata": {
        "id": "OJzZUoYWRf6K"
      },
      "execution_count": 3,
      "outputs": []
    },
    {
      "cell_type": "code",
      "source": [],
      "metadata": {
        "id": "83Suw4K2RrNP"
      },
      "execution_count": null,
      "outputs": []
    }
  ]
}