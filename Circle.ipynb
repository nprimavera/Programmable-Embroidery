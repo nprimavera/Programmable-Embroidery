{
  "nbformat": 4,
  "nbformat_minor": 0,
  "metadata": {
    "colab": {
      "provenance": [],
      "authorship_tag": "ABX9TyMeEVHUbqf+AxMqfK1AyX3i",
      "include_colab_link": true
    },
    "kernelspec": {
      "name": "python3",
      "display_name": "Python 3"
    },
    "language_info": {
      "name": "python"
    }
  },
  "cells": [
    {
      "cell_type": "markdown",
      "metadata": {
        "id": "view-in-github",
        "colab_type": "text"
      },
      "source": [
        "<a href=\"https://colab.research.google.com/github/nprimavera/Programmable-Embroidery/blob/main/Programmable_Embroidery_Preliminary_Assignment.ipynb\" target=\"_parent\"><img src=\"https://colab.research.google.com/assets/colab-badge.svg\" alt=\"Open In Colab\"/></a>"
      ]
    },
    {
      "cell_type": "code",
      "source": [
        "stitches = [\n",
        "    128, 2, 0, 0,\n",
        "    206, 206, 1\n",
        "]\n",
        "\n",
        "for i in range(0, 10):\n",
        "    stitches += [10, 10]\n",
        "    for ii in range(0, 10):\n",
        "        stitches += [0, 10, 1]\n",
        "\n",
        "for i in range(0, 10):\n",
        "    stitches += [246, 0, 1]\n",
        "    for ii in range(0, 10):\n",
        "        stitches += [0, 246, 1]\n",
        "\n",
        "stitches += [128, 16]\n",
        "\n",
        "# \"Last stitch\" command code\n",
        "jefBytes = bytearray([\n",
        "    124, 0, 0, 0,  # The byte offset of the first stitch\n",
        "    10, 0, 0, 0,  # Unknown number\n",
        "    ord(\"2\"),\n",
        "    ord(\"0\"),\n",
        "    ord(\"2\"),\n",
        "    ord(\"4\"),\n",
        "    ord(\"0\"),\n",
        "    ord(\"3\"),\n",
        "    ord(\"0\"),\n",
        "    ord(\"0\"),\n",
        "    ord(\"0\"),\n",
        "    0, 0, 0,  # Number of physical threads (1)\n",
        "    (len(stitches) // 2) & 0xff, (len(stitches) // 2) >> 8 & 0xff, 0, 0,  # Number of stitches (in 1.0 mm)\n",
        "    3, 0, 0,  # Sewing machine\n",
        "    50, 50, 50,  # Left boundary distance from center\n",
        "    50, 0, 0, 0,  # Bottom boundary distance from center\n",
        "    50, 0, 0, 0,  # Right boundary distance from center\n",
        "    50, 50, 50,  # Top boundary distance from center (in 1.0 mm)\n",
        "    2, 13,  # Top boundary distance from center (in 0.1 mm)\n",
        "    0, 0, 0, 0  # Right boundary distance from center (in 0.1 mm)\n",
        "])\n",
        "\n",
        "jefBytes += bytes(stitches)\n",
        "\n",
        "# Write to file\n",
        "with open(\"squares.jef\", \"wb\") as f:\n",
        "    f.write(jefBytes)"
      ],
      "metadata": {
        "id": "R9gz3YUNpVxX"
      },
      "execution_count": null,
      "outputs": []
    }
  ]
}
